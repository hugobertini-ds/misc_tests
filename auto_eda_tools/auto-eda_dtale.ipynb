{
 "cells": [
  {
   "cell_type": "markdown",
   "id": "73bfd305-4c90-4e8b-9413-af371bf86c6a",
   "metadata": {
    "tags": []
   },
   "source": [
    "# Auto EDA with D-Tale"
   ]
  },
  {
   "cell_type": "code",
   "execution_count": 1,
   "id": "16c1dd4b-4fa2-451e-b560-46d88d16034e",
   "metadata": {},
   "outputs": [],
   "source": [
    "import dtale\n",
    "import dtale.app as dtale_app"
   ]
  },
  {
   "cell_type": "code",
   "execution_count": 2,
   "id": "50a03f37-7d94-4208-b2d7-c364ccd700fa",
   "metadata": {},
   "outputs": [],
   "source": [
    "import pandas as pd"
   ]
  },
  {
   "cell_type": "code",
   "execution_count": 3,
   "id": "d8955d9d-6142-4449-96d7-9afda31c9226",
   "metadata": {},
   "outputs": [],
   "source": [
    "housing_df = pd.read_csv('../data/housing.csv')"
   ]
  },
  {
   "cell_type": "code",
   "execution_count": 4,
   "id": "edbd0436-05b8-4cb2-865c-05400527ba48",
   "metadata": {},
   "outputs": [],
   "source": [
    "dtale_app.JUPYTER_SERVER_PROXY = True"
   ]
  },
  {
   "cell_type": "code",
   "execution_count": 7,
   "id": "1662869d-6de3-4df3-8c3b-e5aa7e10a56c",
   "metadata": {},
   "outputs": [],
   "source": [
    "d.app_root = \"/proxy\""
   ]
  },
  {
   "cell_type": "code",
   "execution_count": 8,
   "id": "6f5df67f-9f27-4d3d-8284-2c85b9adfc92",
   "metadata": {},
   "outputs": [],
   "source": [
    "d = dtale_app.show(housing_df)"
   ]
  },
  {
   "cell_type": "code",
   "execution_count": 9,
   "id": "361b3524-deea-427d-a0ee-d94ed279e606",
   "metadata": {},
   "outputs": [
    {
     "data": {
      "text/html": [
       "\n",
       "        <iframe\n",
       "            width=\"100%\"\n",
       "            height=\"475\"\n",
       "            src=\"/user/hbds/proxy/40000/dtale/iframe/2\"\n",
       "            frameborder=\"0\"\n",
       "            allowfullscreen\n",
       "            \n",
       "        ></iframe>\n",
       "        "
      ],
      "text/plain": [
       "<IPython.lib.display.IFrame at 0x15f7a579910>"
      ]
     },
     "metadata": {},
     "output_type": "display_data"
    },
    {
     "data": {
      "text/plain": []
     },
     "execution_count": 9,
     "metadata": {},
     "output_type": "execute_result"
    }
   ],
   "source": [
    "d"
   ]
  },
  {
   "cell_type": "code",
   "execution_count": 11,
   "id": "727ecd0a-99fb-4528-bed0-eaa0b581b637",
   "metadata": {},
   "outputs": [
    {
     "data": {
      "text/plain": [
       "'/proxy'"
      ]
     },
     "execution_count": 11,
     "metadata": {},
     "output_type": "execute_result"
    }
   ],
   "source": [
    "d.app_root"
   ]
  },
  {
   "cell_type": "code",
   "execution_count": null,
   "id": "fceab088-4f3d-4852-9c9b-f12ca413e0c9",
   "metadata": {},
   "outputs": [],
   "source": []
  },
  {
   "cell_type": "code",
   "execution_count": null,
   "id": "07686fd8-4d79-49cb-bd91-3315f4b00cc4",
   "metadata": {},
   "outputs": [],
   "source": []
  }
 ],
 "metadata": {
  "kernelspec": {
   "display_name": "Python 3 (ipykernel)",
   "language": "python",
   "name": "python3"
  },
  "language_info": {
   "codemirror_mode": {
    "name": "ipython",
    "version": 3
   },
   "file_extension": ".py",
   "mimetype": "text/x-python",
   "name": "python",
   "nbconvert_exporter": "python",
   "pygments_lexer": "ipython3",
   "version": "3.9.12"
  }
 },
 "nbformat": 4,
 "nbformat_minor": 5
}
